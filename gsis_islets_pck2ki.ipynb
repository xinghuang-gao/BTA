{
 "cells": [
  {
   "cell_type": "code",
   "execution_count": 1,
   "metadata": {},
   "outputs": [],
   "source": [
    "# make a dot box plot to show the changes of insuln secretion on GSiS between wt and PCK2 mutant\n",
    "import numpy as np\n",
    "import pandas as pd\n",
    "import seaborn as sns\n",
    "import matplotlib.pyplot as plt\n",
    "%matplotlib inline\n",
    "df_f = pd.read_csv('/Users/xing-huanggao/Desktop/islet_gsis_fold_change.csv')"
   ]
  },
  {
   "cell_type": "code",
   "execution_count": 2,
   "metadata": {},
   "outputs": [
    {
     "data": {
      "text/html": [
       "<div>\n",
       "<style scoped>\n",
       "    .dataframe tbody tr th:only-of-type {\n",
       "        vertical-align: middle;\n",
       "    }\n",
       "\n",
       "    .dataframe tbody tr th {\n",
       "        vertical-align: top;\n",
       "    }\n",
       "\n",
       "    .dataframe thead th {\n",
       "        text-align: right;\n",
       "    }\n",
       "</style>\n",
       "<table border=\"1\" class=\"dataframe\">\n",
       "  <thead>\n",
       "    <tr style=\"text-align: right;\">\n",
       "      <th></th>\n",
       "      <th>WT</th>\n",
       "      <th>PCK2 C151S -/+</th>\n",
       "      <th>PCK2 C151S +/+</th>\n",
       "    </tr>\n",
       "  </thead>\n",
       "  <tbody>\n",
       "    <tr>\n",
       "      <th>0</th>\n",
       "      <td>2.180761</td>\n",
       "      <td>8.057187</td>\n",
       "      <td>1.224075</td>\n",
       "    </tr>\n",
       "    <tr>\n",
       "      <th>1</th>\n",
       "      <td>3.272753</td>\n",
       "      <td>2.148276</td>\n",
       "      <td>3.701729</td>\n",
       "    </tr>\n",
       "    <tr>\n",
       "      <th>2</th>\n",
       "      <td>1.212105</td>\n",
       "      <td>2.981799</td>\n",
       "      <td>4.465010</td>\n",
       "    </tr>\n",
       "    <tr>\n",
       "      <th>3</th>\n",
       "      <td>2.676365</td>\n",
       "      <td>2.088522</td>\n",
       "      <td>3.793733</td>\n",
       "    </tr>\n",
       "    <tr>\n",
       "      <th>4</th>\n",
       "      <td>NaN</td>\n",
       "      <td>1.685446</td>\n",
       "      <td>29.355626</td>\n",
       "    </tr>\n",
       "  </tbody>\n",
       "</table>\n",
       "</div>"
      ],
      "text/plain": [
       "         WT  PCK2 C151S -/+  PCK2 C151S +/+\n",
       "0  2.180761        8.057187        1.224075\n",
       "1  3.272753        2.148276        3.701729\n",
       "2  1.212105        2.981799        4.465010\n",
       "3  2.676365        2.088522        3.793733\n",
       "4       NaN        1.685446       29.355626"
      ]
     },
     "execution_count": 2,
     "metadata": {},
     "output_type": "execute_result"
    }
   ],
   "source": [
    "df_f.head()"
   ]
  },
  {
   "cell_type": "code",
   "execution_count": 3,
   "metadata": {},
   "outputs": [],
   "source": [
    "df_f['log_wt'] = np.log2(df_f['WT'])\n",
    "df_f['log_hetero'] = np.log2(df_f['PCK2 C151S -/+'])\n",
    "df_f['log_homo'] = np.log2(df_f['PCK2 C151S +/+'])"
   ]
  },
  {
   "cell_type": "code",
   "execution_count": 4,
   "metadata": {},
   "outputs": [
    {
     "data": {
      "text/html": [
       "<div>\n",
       "<style scoped>\n",
       "    .dataframe tbody tr th:only-of-type {\n",
       "        vertical-align: middle;\n",
       "    }\n",
       "\n",
       "    .dataframe tbody tr th {\n",
       "        vertical-align: top;\n",
       "    }\n",
       "\n",
       "    .dataframe thead th {\n",
       "        text-align: right;\n",
       "    }\n",
       "</style>\n",
       "<table border=\"1\" class=\"dataframe\">\n",
       "  <thead>\n",
       "    <tr style=\"text-align: right;\">\n",
       "      <th></th>\n",
       "      <th>WT</th>\n",
       "      <th>PCK2 C151S -/+</th>\n",
       "      <th>PCK2 C151S +/+</th>\n",
       "      <th>log_wt</th>\n",
       "      <th>log_hetero</th>\n",
       "      <th>log_homo</th>\n",
       "    </tr>\n",
       "  </thead>\n",
       "  <tbody>\n",
       "    <tr>\n",
       "      <th>0</th>\n",
       "      <td>2.180761</td>\n",
       "      <td>8.057187</td>\n",
       "      <td>1.224075</td>\n",
       "      <td>1.124831</td>\n",
       "      <td>3.010276</td>\n",
       "      <td>0.291692</td>\n",
       "    </tr>\n",
       "    <tr>\n",
       "      <th>1</th>\n",
       "      <td>3.272753</td>\n",
       "      <td>2.148276</td>\n",
       "      <td>3.701729</td>\n",
       "      <td>1.710505</td>\n",
       "      <td>1.103179</td>\n",
       "      <td>1.888199</td>\n",
       "    </tr>\n",
       "    <tr>\n",
       "      <th>2</th>\n",
       "      <td>1.212105</td>\n",
       "      <td>2.981799</td>\n",
       "      <td>4.465010</td>\n",
       "      <td>0.277514</td>\n",
       "      <td>1.576183</td>\n",
       "      <td>2.158663</td>\n",
       "    </tr>\n",
       "    <tr>\n",
       "      <th>3</th>\n",
       "      <td>2.676365</td>\n",
       "      <td>2.088522</td>\n",
       "      <td>3.793733</td>\n",
       "      <td>1.420275</td>\n",
       "      <td>1.062482</td>\n",
       "      <td>1.923618</td>\n",
       "    </tr>\n",
       "    <tr>\n",
       "      <th>4</th>\n",
       "      <td>NaN</td>\n",
       "      <td>1.685446</td>\n",
       "      <td>29.355626</td>\n",
       "      <td>NaN</td>\n",
       "      <td>0.753130</td>\n",
       "      <td>4.875565</td>\n",
       "    </tr>\n",
       "    <tr>\n",
       "      <th>5</th>\n",
       "      <td>NaN</td>\n",
       "      <td>NaN</td>\n",
       "      <td>23.580869</td>\n",
       "      <td>NaN</td>\n",
       "      <td>NaN</td>\n",
       "      <td>4.559545</td>\n",
       "    </tr>\n",
       "  </tbody>\n",
       "</table>\n",
       "</div>"
      ],
      "text/plain": [
       "         WT  PCK2 C151S -/+  PCK2 C151S +/+    log_wt  log_hetero  log_homo\n",
       "0  2.180761        8.057187        1.224075  1.124831    3.010276  0.291692\n",
       "1  3.272753        2.148276        3.701729  1.710505    1.103179  1.888199\n",
       "2  1.212105        2.981799        4.465010  0.277514    1.576183  2.158663\n",
       "3  2.676365        2.088522        3.793733  1.420275    1.062482  1.923618\n",
       "4       NaN        1.685446       29.355626       NaN    0.753130  4.875565\n",
       "5       NaN             NaN       23.580869       NaN         NaN  4.559545"
      ]
     },
     "execution_count": 4,
     "metadata": {},
     "output_type": "execute_result"
    }
   ],
   "source": [
    "df_f"
   ]
  },
  {
   "cell_type": "code",
   "execution_count": 5,
   "metadata": {},
   "outputs": [
    {
     "data": {
      "text/plain": [
       "<Figure size 1080x1152 with 0 Axes>"
      ]
     },
     "metadata": {},
     "output_type": "display_data"
    }
   ],
   "source": [
    "tips = df_f.iloc[:, 3:6];\n",
    "plt.figure(figsize=(15, 16));"
   ]
  },
  {
   "cell_type": "code",
   "execution_count": 6,
   "metadata": {},
   "outputs": [
    {
     "data": {
      "image/png": "[encoded data removed]",
      "text/plain": [
       "<Figure size 432x288 with 1 Axes>"
      ]
     },
     "metadata": {
      "needs_background": "light"
     },
     "output_type": "display_data"
    }
   ],
   "source": [
    "sns_plot = sns.boxplot(data=tips, palette=\"deep\")\n",
    "sns.swarmplot( data=tips, color=\".25\")\n",
    "sns_plot.set_title(\"Female\")\n",
    "sns_plot.set_xticklabels(['WT', 'C151S -/+', 'C151S +/+'])\n",
    "sns_plot.set(ylabel='Insulin secretion (fold change, log2)');"
   ]
  },
  {
   "cell_type": "code",
   "execution_count": 7,
   "metadata": {},
   "outputs": [],
   "source": [
    "fig_f = sns_plot.get_figure()\n",
    "fig_f.savefig(\"gsis_f_foldchange_dot_plot.pdf\")"
   ]
  },
  {
   "cell_type": "code",
   "execution_count": 8,
   "metadata": {},
   "outputs": [],
   "source": [
    "# read gsis data for male mice\n",
    "df_m = pd.read_csv('/Users/xing-huanggao/Desktop/gsis_m_islets.csv')"
   ]
  },
  {
   "cell_type": "code",
   "execution_count": 9,
   "metadata": {},
   "outputs": [
    {
     "data": {
      "text/html": [
       "<div>\n",
       "<style scoped>\n",
       "    .dataframe tbody tr th:only-of-type {\n",
       "        vertical-align: middle;\n",
       "    }\n",
       "\n",
       "    .dataframe tbody tr th {\n",
       "        vertical-align: top;\n",
       "    }\n",
       "\n",
       "    .dataframe thead th {\n",
       "        text-align: right;\n",
       "    }\n",
       "</style>\n",
       "<table border=\"1\" class=\"dataframe\">\n",
       "  <thead>\n",
       "    <tr style=\"text-align: right;\">\n",
       "      <th></th>\n",
       "      <th>WT</th>\n",
       "      <th>C151S -/+</th>\n",
       "      <th>C151S +/+</th>\n",
       "    </tr>\n",
       "  </thead>\n",
       "  <tbody>\n",
       "    <tr>\n",
       "      <th>0</th>\n",
       "      <td>2.370370</td>\n",
       "      <td>1.842317</td>\n",
       "      <td>1.814098</td>\n",
       "    </tr>\n",
       "    <tr>\n",
       "      <th>1</th>\n",
       "      <td>2.053784</td>\n",
       "      <td>0.688965</td>\n",
       "      <td>2.319108</td>\n",
       "    </tr>\n",
       "    <tr>\n",
       "      <th>2</th>\n",
       "      <td>0.540663</td>\n",
       "      <td>0.895214</td>\n",
       "      <td>2.726645</td>\n",
       "    </tr>\n",
       "    <tr>\n",
       "      <th>3</th>\n",
       "      <td>4.487130</td>\n",
       "      <td>1.630365</td>\n",
       "      <td>2.676365</td>\n",
       "    </tr>\n",
       "    <tr>\n",
       "      <th>4</th>\n",
       "      <td>1.120339</td>\n",
       "      <td>7.554499</td>\n",
       "      <td>0.494269</td>\n",
       "    </tr>\n",
       "    <tr>\n",
       "      <th>5</th>\n",
       "      <td>2.500932</td>\n",
       "      <td>1.431564</td>\n",
       "      <td>NaN</td>\n",
       "    </tr>\n",
       "    <tr>\n",
       "      <th>6</th>\n",
       "      <td>3.990137</td>\n",
       "      <td>1.590698</td>\n",
       "      <td>NaN</td>\n",
       "    </tr>\n",
       "    <tr>\n",
       "      <th>7</th>\n",
       "      <td>0.750957</td>\n",
       "      <td>1.113229</td>\n",
       "      <td>NaN</td>\n",
       "    </tr>\n",
       "  </tbody>\n",
       "</table>\n",
       "</div>"
      ],
      "text/plain": [
       "         WT  C151S -/+  C151S +/+\n",
       "0  2.370370   1.842317   1.814098\n",
       "1  2.053784   0.688965   2.319108\n",
       "2  0.540663   0.895214   2.726645\n",
       "3  4.487130   1.630365   2.676365\n",
       "4  1.120339   7.554499   0.494269\n",
       "5  2.500932   1.431564        NaN\n",
       "6  3.990137   1.590698        NaN\n",
       "7  0.750957   1.113229        NaN"
      ]
     },
     "execution_count": 9,
     "metadata": {},
     "output_type": "execute_result"
    }
   ],
   "source": [
    "df_m"
   ]
  },
  {
   "cell_type": "code",
   "execution_count": 10,
   "metadata": {},
   "outputs": [],
   "source": [
    "df_m['log_wt'] = np.log2(df_m['WT'])\n",
    "df_m['log_hetero'] = np.log2(df_m['C151S -/+'])\n",
    "df_m['log_homo'] = np.log2(df_m['C151S +/+'])"
   ]
  },
  {
   "cell_type": "code",
   "execution_count": 11,
   "metadata": {},
   "outputs": [
    {
     "data": {
      "text/html": [
       "<div>\n",
       "<style scoped>\n",
       "    .dataframe tbody tr th:only-of-type {\n",
       "        vertical-align: middle;\n",
       "    }\n",
       "\n",
       "    .dataframe tbody tr th {\n",
       "        vertical-align: top;\n",
       "    }\n",
       "\n",
       "    .dataframe thead th {\n",
       "        text-align: right;\n",
       "    }\n",
       "</style>\n",
       "<table border=\"1\" class=\"dataframe\">\n",
       "  <thead>\n",
       "    <tr style=\"text-align: right;\">\n",
       "      <th></th>\n",
       "      <th>WT</th>\n",
       "      <th>C151S -/+</th>\n",
       "      <th>C151S +/+</th>\n",
       "      <th>log_wt</th>\n",
       "      <th>log_hetero</th>\n",
       "      <th>log_homo</th>\n",
       "    </tr>\n",
       "  </thead>\n",
       "  <tbody>\n",
       "    <tr>\n",
       "      <th>0</th>\n",
       "      <td>2.370370</td>\n",
       "      <td>1.842317</td>\n",
       "      <td>1.814098</td>\n",
       "      <td>1.245112</td>\n",
       "      <td>0.881521</td>\n",
       "      <td>0.859252</td>\n",
       "    </tr>\n",
       "    <tr>\n",
       "      <th>1</th>\n",
       "      <td>2.053784</td>\n",
       "      <td>0.688965</td>\n",
       "      <td>2.319108</td>\n",
       "      <td>1.038285</td>\n",
       "      <td>-0.537497</td>\n",
       "      <td>1.213570</td>\n",
       "    </tr>\n",
       "    <tr>\n",
       "      <th>2</th>\n",
       "      <td>0.540663</td>\n",
       "      <td>0.895214</td>\n",
       "      <td>2.726645</td>\n",
       "      <td>-0.887199</td>\n",
       "      <td>-0.159696</td>\n",
       "      <td>1.447127</td>\n",
       "    </tr>\n",
       "    <tr>\n",
       "      <th>3</th>\n",
       "      <td>4.487130</td>\n",
       "      <td>1.630365</td>\n",
       "      <td>2.676365</td>\n",
       "      <td>2.165793</td>\n",
       "      <td>0.705195</td>\n",
       "      <td>1.420275</td>\n",
       "    </tr>\n",
       "    <tr>\n",
       "      <th>4</th>\n",
       "      <td>1.120339</td>\n",
       "      <td>7.554499</td>\n",
       "      <td>0.494269</td>\n",
       "      <td>0.163935</td>\n",
       "      <td>2.917336</td>\n",
       "      <td>-1.016633</td>\n",
       "    </tr>\n",
       "    <tr>\n",
       "      <th>5</th>\n",
       "      <td>2.500932</td>\n",
       "      <td>1.431564</td>\n",
       "      <td>NaN</td>\n",
       "      <td>1.322466</td>\n",
       "      <td>0.517592</td>\n",
       "      <td>NaN</td>\n",
       "    </tr>\n",
       "    <tr>\n",
       "      <th>6</th>\n",
       "      <td>3.990137</td>\n",
       "      <td>1.590698</td>\n",
       "      <td>NaN</td>\n",
       "      <td>1.996438</td>\n",
       "      <td>0.669660</td>\n",
       "      <td>NaN</td>\n",
       "    </tr>\n",
       "    <tr>\n",
       "      <th>7</th>\n",
       "      <td>0.750957</td>\n",
       "      <td>1.113229</td>\n",
       "      <td>NaN</td>\n",
       "      <td>-0.413197</td>\n",
       "      <td>0.154750</td>\n",
       "      <td>NaN</td>\n",
       "    </tr>\n",
       "  </tbody>\n",
       "</table>\n",
       "</div>"
      ],
      "text/plain": [
       "         WT  C151S -/+  C151S +/+    log_wt  log_hetero  log_homo\n",
       "0  2.370370   1.842317   1.814098  1.245112    0.881521  0.859252\n",
       "1  2.053784   0.688965   2.319108  1.038285   -0.537497  1.213570\n",
       "2  0.540663   0.895214   2.726645 -0.887199   -0.159696  1.447127\n",
       "3  4.487130   1.630365   2.676365  2.165793    0.705195  1.420275\n",
       "4  1.120339   7.554499   0.494269  0.163935    2.917336 -1.016633\n",
       "5  2.500932   1.431564        NaN  1.322466    0.517592       NaN\n",
       "6  3.990137   1.590698        NaN  1.996438    0.669660       NaN\n",
       "7  0.750957   1.113229        NaN -0.413197    0.154750       NaN"
      ]
     },
     "execution_count": 11,
     "metadata": {},
     "output_type": "execute_result"
    }
   ],
   "source": [
    "df_m"
   ]
  },
  {
   "cell_type": "code",
   "execution_count": 12,
   "metadata": {},
   "outputs": [
    {
     "data": {
      "text/plain": [
       "<Figure size 1080x1152 with 0 Axes>"
      ]
     },
     "metadata": {},
     "output_type": "display_data"
    }
   ],
   "source": [
    "tips_m = df_m.iloc[:, 3:6];\n",
    "plt.figure(figsize=(15, 16));"
   ]
  },
  {
   "cell_type": "code",
   "execution_count": 13,
   "metadata": {},
   "outputs": [
    {
     "data": {
      "image/png": "[encoded data removed]",
      "text/plain": [
       "<Figure size 432x288 with 1 Axes>"
      ]
     },
     "metadata": {
      "needs_background": "light"
     },
     "output_type": "display_data"
    }
   ],
   "source": [
    "sns_plot = sns.boxplot(data=tips_m, palette=\"Set2\")\n",
    "sns.swarmplot( data=tips_m, color=\".25\")\n",
    "sns_plot.set_title(\"Male\")\n",
    "sns_plot.set_xticklabels(['WT', 'C151S -/+', 'C151S +/+'])\n",
    "sns_plot.set(ylabel='Insulin secretion (fold change, log2)');"
   ]
  },
  {
   "cell_type": "code",
   "execution_count": 14,
   "metadata": {},
   "outputs": [],
   "source": [
    "fig_m = sns_plot.get_figure()\n",
    "fig_m.savefig(\"gsis_m_foldchange_dot_plot.pdf\")"
   ]
  },
  {
   "cell_type": "code",
   "execution_count": 15,
   "metadata": {},
   "outputs": [
    {
     "name": "stdout",
     "output_type": "stream",
     "text": [
      "<class 'pandas.core.frame.DataFrame'>\n",
      "RangeIndex: 8 entries, 0 to 7\n",
      "Data columns (total 6 columns):\n",
      "WT            8 non-null float64\n",
      "C151S -/+     8 non-null float64\n",
      "C151S +/+     5 non-null float64\n",
      "log_wt        8 non-null float64\n",
      "log_hetero    8 non-null float64\n",
      "log_homo      5 non-null float64\n",
      "dtypes: float64(6)\n",
      "memory usage: 464.0 bytes\n"
     ]
    }
   ],
   "source": [
    "df_m.info()"
   ]
  },
  {
   "cell_type": "code",
   "execution_count": 16,
   "metadata": {},
   "outputs": [
    {
     "name": "stdout",
     "output_type": "stream",
     "text": [
      "<class 'pandas.core.frame.DataFrame'>\n",
      "RangeIndex: 6 entries, 0 to 5\n",
      "Data columns (total 6 columns):\n",
      "WT                4 non-null float64\n",
      "PCK2 C151S -/+    5 non-null float64\n",
      "PCK2 C151S +/+    6 non-null float64\n",
      "log_wt            4 non-null float64\n",
      "log_hetero        5 non-null float64\n",
      "log_homo          6 non-null float64\n",
      "dtypes: float64(6)\n",
      "memory usage: 368.0 bytes\n"
     ]
    }
   ],
   "source": [
    "df_f.info()"
   ]
  }
 ],
 "metadata": {
  "kernelspec": {
   "display_name": "Python 3",
   "language": "python",
   "name": "python3"
  },
  "language_info": {
   "codemirror_mode": {
    "name": "ipython",
    "version": 3
   },
   "file_extension": ".py",
   "mimetype": "text/x-python",
   "name": "python",
   "nbconvert_exporter": "python",
   "pygments_lexer": "ipython3",
   "version": "3.7.4"
  }
 },
 "nbformat": 4,
 "nbformat_minor": 2
}
